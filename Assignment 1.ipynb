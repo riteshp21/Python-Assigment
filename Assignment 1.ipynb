{
 "cells": [
  {
   "cell_type": "markdown",
   "id": "4427bf14",
   "metadata": {},
   "source": [
    "# 1. In the below elements which of them are values or an expression? eg:- values can be integer or string and expressions will be mathematical operators."
   ]
  },
  {
   "cell_type": "markdown",
   "id": "2106d073",
   "metadata": {},
   "source": [
    "* , - , / , + : these are expressions."
   ]
  },
  {
   "cell_type": "markdown",
   "id": "f57c24a5",
   "metadata": {},
   "source": [
    "'hello' , -87.8, 6 : these are values."
   ]
  },
  {
   "cell_type": "markdown",
   "id": "61b13aee",
   "metadata": {},
   "source": [
    "# 2. What is the difference between string and variable?"
   ]
  },
  {
   "cell_type": "markdown",
   "id": "cb939c19",
   "metadata": {},
   "source": [
    "Strings are data, we use to fill up in a variable."
   ]
  },
  {
   "cell_type": "markdown",
   "id": "6bd5e9fb",
   "metadata": {},
   "source": [
    "Variables are symbols, used to store the data in program. "
   ]
  },
  {
   "cell_type": "markdown",
   "id": "4498fe34",
   "metadata": {},
   "source": [
    "# 3. Describe three different data types."
   ]
  },
  {
   "cell_type": "markdown",
   "id": "98074e00",
   "metadata": {},
   "source": [
    "Integer data type : This data type contains numerical values. e.g. (32857)"
   ]
  },
  {
   "cell_type": "markdown",
   "id": "a1f887c3",
   "metadata": {},
   "source": [
    "Float data type : This data type contains floating values, floating values are basically decimal value. e.g. (23.56)"
   ]
  },
  {
   "cell_type": "markdown",
   "id": "0ead5201",
   "metadata": {},
   "source": [
    "String data type : This contains character value enclosing in quotes. e.g. (\"data science\"). Python uses single quotes ' double quotes \"."
   ]
  },
  {
   "cell_type": "markdown",
   "id": "fd87a3ea",
   "metadata": {},
   "source": [
    "# 4. What is an expression made up of? What do all expressions do?"
   ]
  },
  {
   "cell_type": "markdown",
   "id": "0da4d1e1",
   "metadata": {},
   "source": [
    "An expression is made up of operators and operands that is interpreted to produce some other value.\n",
    "Expressions represents the value as per the preference of its operators. For example:"
   ]
  },
  {
   "cell_type": "code",
   "execution_count": 22,
   "id": "3d28abfe",
   "metadata": {},
   "outputs": [],
   "source": [
    "a = 2 + 5 * 9"
   ]
  },
  {
   "cell_type": "code",
   "execution_count": 23,
   "id": "db9e71f8",
   "metadata": {},
   "outputs": [
    {
     "data": {
      "text/plain": [
       "47"
      ]
     },
     "execution_count": 23,
     "metadata": {},
     "output_type": "execute_result"
    }
   ],
   "source": [
    "a"
   ]
  },
  {
   "cell_type": "markdown",
   "id": "7aebdcbf",
   "metadata": {},
   "source": [
    "# 5. This assignment statements, like spam = 10. What is the difference between an expression and a statement?"
   ]
  },
  {
   "cell_type": "markdown",
   "id": "56cf4d81",
   "metadata": {},
   "source": [
    " If you can print it, or assign it to a variable, it’s an expression. If you can’t, it’s a statement."
   ]
  },
  {
   "cell_type": "markdown",
   "id": "1101c1c2",
   "metadata": {},
   "source": [
    "# 6. After running the following code, what does the variable bacon contain?"
   ]
  },
  {
   "cell_type": "code",
   "execution_count": 29,
   "id": "4e2e1d96",
   "metadata": {},
   "outputs": [
    {
     "data": {
      "text/plain": [
       "23"
      ]
     },
     "execution_count": 29,
     "metadata": {},
     "output_type": "execute_result"
    }
   ],
   "source": [
    "bacon = 22\n",
    "bacon + 1"
   ]
  },
  {
   "cell_type": "code",
   "execution_count": 30,
   "id": "329143d4",
   "metadata": {},
   "outputs": [
    {
     "data": {
      "text/plain": [
       "22"
      ]
     },
     "execution_count": 30,
     "metadata": {},
     "output_type": "execute_result"
    }
   ],
   "source": [
    "bacon"
   ]
  },
  {
   "cell_type": "markdown",
   "id": "35528f48",
   "metadata": {},
   "source": [
    "The bacon variable contains 22. The bacon + 1 expression does not reassign the value in bacon. "
   ]
  },
  {
   "cell_type": "markdown",
   "id": "5661cac8",
   "metadata": {},
   "source": [
    "# 7. What should the values of the following two terms be?"
   ]
  },
  {
   "cell_type": "code",
   "execution_count": 12,
   "id": "ecab1ee2",
   "metadata": {},
   "outputs": [
    {
     "data": {
      "text/plain": [
       "'spamspamsapm'"
      ]
     },
     "execution_count": 12,
     "metadata": {},
     "output_type": "execute_result"
    }
   ],
   "source": [
    "'spam'+'spamsapm'"
   ]
  },
  {
   "cell_type": "markdown",
   "id": "31a0fe08",
   "metadata": {},
   "source": [
    "'spam'*3"
   ]
  },
  {
   "cell_type": "markdown",
   "id": "e284fd1e",
   "metadata": {},
   "source": [
    "Both will be the same."
   ]
  },
  {
   "cell_type": "markdown",
   "id": "65eb4b73",
   "metadata": {},
   "source": [
    "# 8. Why is eggs a valid variable name while 100 is invalid?"
   ]
  },
  {
   "cell_type": "markdown",
   "id": "ff4f8fa4",
   "metadata": {},
   "source": [
    "Because we can't begin a variable name with a integer."
   ]
  },
  {
   "cell_type": "markdown",
   "id": "1b19d86f",
   "metadata": {},
   "source": [
    "# 9. What three functions can be used to get the integer, floating-point number, or string version of a value?"
   ]
  },
  {
   "cell_type": "markdown",
   "id": "ebfa34f2",
   "metadata": {},
   "source": [
    "The int(), float(), and str() functions will fix the value to the integer, floating-point number, and string."
   ]
  },
  {
   "cell_type": "markdown",
   "id": "e1d6d1c8",
   "metadata": {},
   "source": [
    "# 10. Why does this expression cause an error? How can you fix it?"
   ]
  },
  {
   "cell_type": "code",
   "execution_count": 14,
   "id": "aba8c4ce",
   "metadata": {},
   "outputs": [
    {
     "ename": "TypeError",
     "evalue": "can only concatenate str (not \"int\") to str",
     "output_type": "error",
     "traceback": [
      "\u001b[1;31m---------------------------------------------------------------------------\u001b[0m",
      "\u001b[1;31mTypeError\u001b[0m                                 Traceback (most recent call last)",
      "\u001b[1;32m~\\AppData\\Local\\Temp/ipykernel_1584/2630289103.py\u001b[0m in \u001b[0;36m<module>\u001b[1;34m\u001b[0m\n\u001b[1;32m----> 1\u001b[1;33m \u001b[1;34m'I have eaten'\u001b[0m\u001b[1;33m+\u001b[0m\u001b[1;36m99\u001b[0m\u001b[1;33m+\u001b[0m\u001b[1;34m'burritos'\u001b[0m\u001b[1;33m\u001b[0m\u001b[1;33m\u001b[0m\u001b[0m\n\u001b[0m",
      "\u001b[1;31mTypeError\u001b[0m: can only concatenate str (not \"int\") to str"
     ]
    }
   ],
   "source": [
    "'I have eaten' + 99 + 'burritos'"
   ]
  },
  {
   "cell_type": "markdown",
   "id": "9657df7c",
   "metadata": {},
   "source": [
    "This expression causing an error because 99 is an integer and other values are string so it cann't be concatenate with string.\n",
    "We can fix it by enclosing it with quotes like this '99' to make it work like string."
   ]
  },
  {
   "cell_type": "code",
   "execution_count": 25,
   "id": "305a1d52",
   "metadata": {},
   "outputs": [
    {
     "data": {
      "text/plain": [
       "'I have eaten99burritos'"
      ]
     },
     "execution_count": 25,
     "metadata": {},
     "output_type": "execute_result"
    }
   ],
   "source": [
    "'I have eaten' + '99' + 'burritos'"
   ]
  }
 ],
 "metadata": {
  "kernelspec": {
   "display_name": "Python 3 (ipykernel)",
   "language": "python",
   "name": "python3"
  },
  "language_info": {
   "codemirror_mode": {
    "name": "ipython",
    "version": 3
   },
   "file_extension": ".py",
   "mimetype": "text/x-python",
   "name": "python",
   "nbconvert_exporter": "python",
   "pygments_lexer": "ipython3",
   "version": "3.9.7"
  }
 },
 "nbformat": 4,
 "nbformat_minor": 5
}
